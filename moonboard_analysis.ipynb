{
 "cells": [
  {
   "cell_type": "code",
   "execution_count": 5,
   "id": "ebd4c418",
   "metadata": {},
   "outputs": [],
   "source": [
    "import json\n",
    "import pandas as pd"
   ]
  },
  {
   "cell_type": "code",
   "execution_count": null,
   "id": "2c9e94c2",
   "metadata": {},
   "outputs": [
    {
     "data": {
      "text/plain": [
       "{'Grade': ' 6C',\n",
       " 'IsBenchmark': True,\n",
       " 'Moves': [{'Description': '16F', 'IsEnd': True, 'IsStart': False},\n",
       "  {'Description': '6H', 'IsEnd': False, 'IsStart': False},\n",
       "  {'Description': '2G', 'IsEnd': False, 'IsStart': False},\n",
       "  {'Description': '10B', 'IsEnd': False, 'IsStart': False},\n",
       "  {'Description': '7G', 'IsEnd': False, 'IsStart': False},\n",
       "  {'Description': '1J', 'IsEnd': False, 'IsStart': True}],\n",
       " 'Name': 'TIRITI',\n",
       " 'Sended': False}"
      ]
     },
     "execution_count": 11,
     "metadata": {},
     "output_type": "execute_result"
    }
   ],
   "source": [
    "# Converting the dict of numbered keys into a list of problem entries\n",
    "problems = list(data.values())\n",
    "\n",
    "#first problem\n",
    "problems[0]\n"
   ]
  },
  {
   "cell_type": "code",
   "execution_count": 12,
   "id": "1df62458",
   "metadata": {},
   "outputs": [
    {
     "data": {
      "text/html": [
       "<div>\n",
       "<style scoped>\n",
       "    .dataframe tbody tr th:only-of-type {\n",
       "        vertical-align: middle;\n",
       "    }\n",
       "\n",
       "    .dataframe tbody tr th {\n",
       "        vertical-align: top;\n",
       "    }\n",
       "\n",
       "    .dataframe thead th {\n",
       "        text-align: right;\n",
       "    }\n",
       "</style>\n",
       "<table border=\"1\" class=\"dataframe\">\n",
       "  <thead>\n",
       "    <tr style=\"text-align: right;\">\n",
       "      <th></th>\n",
       "      <th>Grade</th>\n",
       "      <th>IsBenchmark</th>\n",
       "      <th>Moves</th>\n",
       "      <th>Name</th>\n",
       "      <th>Sended</th>\n",
       "    </tr>\n",
       "  </thead>\n",
       "  <tbody>\n",
       "    <tr>\n",
       "      <th>0</th>\n",
       "      <td>6C</td>\n",
       "      <td>True</td>\n",
       "      <td>[{'Description': '16F', 'IsEnd': True, 'IsStar...</td>\n",
       "      <td>TIRITI</td>\n",
       "      <td>False</td>\n",
       "    </tr>\n",
       "    <tr>\n",
       "      <th>1</th>\n",
       "      <td>6C</td>\n",
       "      <td>True</td>\n",
       "      <td>[{'Description': '16F', 'IsEnd': True, 'IsStar...</td>\n",
       "      <td>TIRITI</td>\n",
       "      <td>False</td>\n",
       "    </tr>\n",
       "    <tr>\n",
       "      <th>2</th>\n",
       "      <td>7C</td>\n",
       "      <td>True</td>\n",
       "      <td>[{'Description': '16F', 'IsEnd': True, 'IsStar...</td>\n",
       "      <td>HOLD MY BLACKBERRY</td>\n",
       "      <td>False</td>\n",
       "    </tr>\n",
       "    <tr>\n",
       "      <th>3</th>\n",
       "      <td>6C</td>\n",
       "      <td>True</td>\n",
       "      <td>[{'Description': '16K', 'IsEnd': True, 'IsStar...</td>\n",
       "      <td>SPRING CONDITIONS 3</td>\n",
       "      <td>False</td>\n",
       "    </tr>\n",
       "    <tr>\n",
       "      <th>4</th>\n",
       "      <td>7A+</td>\n",
       "      <td>False</td>\n",
       "      <td>[{'Description': '16F', 'IsEnd': True, 'IsStar...</td>\n",
       "      <td>WINGSPAN</td>\n",
       "      <td>False</td>\n",
       "    </tr>\n",
       "  </tbody>\n",
       "</table>\n",
       "</div>"
      ],
      "text/plain": [
       "  Grade  IsBenchmark                                              Moves  \\\n",
       "0    6C         True  [{'Description': '16F', 'IsEnd': True, 'IsStar...   \n",
       "1    6C         True  [{'Description': '16F', 'IsEnd': True, 'IsStar...   \n",
       "2    7C         True  [{'Description': '16F', 'IsEnd': True, 'IsStar...   \n",
       "3    6C         True  [{'Description': '16K', 'IsEnd': True, 'IsStar...   \n",
       "4   7A+        False  [{'Description': '16F', 'IsEnd': True, 'IsStar...   \n",
       "\n",
       "                  Name  Sended  \n",
       "0               TIRITI   False  \n",
       "1               TIRITI   False  \n",
       "2   HOLD MY BLACKBERRY   False  \n",
       "3  SPRING CONDITIONS 3   False  \n",
       "4             WINGSPAN   False  "
      ]
     },
     "execution_count": 12,
     "metadata": {},
     "output_type": "execute_result"
    }
   ],
   "source": [
    "df = pd.DataFrame(problems)\n",
    "df.head()\n"
   ]
  },
  {
   "cell_type": "code",
   "execution_count": 13,
   "id": "0d3bbad4",
   "metadata": {},
   "outputs": [
    {
     "data": {
      "text/plain": [
       "Grade\n",
       " 6B+                  235\n",
       " 7A                   209\n",
       " 6C+                  205\n",
       " 6C                   165\n",
       " 7A+                  154\n",
       " 7B+                   70\n",
       " 7B                    66\n",
       "NA                     49\n",
       " 7C                    40\n",
       " 7C+                   13\n",
       " 6c                     7\n",
       " 8A                     5\n",
       "                        4\n",
       " 6c+                    2\n",
       " GRAZ                   1\n",
       " 6C_                    1\n",
       " YO                     1\n",
       " DARK AND HANDSOME      1\n",
       " 8B                     1\n",
       " 6Cc+                   1\n",
       " 8A+                    1\n",
       " NEBBIAE VII            1\n",
       " 6C.                    1\n",
       " SKWAMA BAD             1\n",
       " | AM LEGEND            1\n",
       " IT'S SHARP             1\n",
       " MEAN                   1\n",
       " SMTMS Y DN'T           1\n",
       " JUMP                   1\n",
       " L                      1\n",
       " SIMON                  1\n",
       "6C                      1\n",
       " ¢ 6B+                  1\n",
       " FIRST SERVED           1\n",
       " 7c+                    1\n",
       " 7At                    1\n",
       "7C                      1\n",
       "7A                      1\n",
       "Name: count, dtype: int64"
      ]
     },
     "execution_count": 13,
     "metadata": {},
     "output_type": "execute_result"
    }
   ],
   "source": [
    "df['Grade'].value_counts()\n"
   ]
  },
  {
   "cell_type": "code",
   "execution_count": 14,
   "id": "bd0b6489",
   "metadata": {},
   "outputs": [
    {
     "data": {
      "text/html": [
       "<div>\n",
       "<style scoped>\n",
       "    .dataframe tbody tr th:only-of-type {\n",
       "        vertical-align: middle;\n",
       "    }\n",
       "\n",
       "    .dataframe tbody tr th {\n",
       "        vertical-align: top;\n",
       "    }\n",
       "\n",
       "    .dataframe thead th {\n",
       "        text-align: right;\n",
       "    }\n",
       "</style>\n",
       "<table border=\"1\" class=\"dataframe\">\n",
       "  <thead>\n",
       "    <tr style=\"text-align: right;\">\n",
       "      <th></th>\n",
       "      <th>Grade</th>\n",
       "      <th>IsBenchmark</th>\n",
       "      <th>Moves</th>\n",
       "      <th>Name</th>\n",
       "      <th>Sended</th>\n",
       "    </tr>\n",
       "  </thead>\n",
       "  <tbody>\n",
       "    <tr>\n",
       "      <th>809</th>\n",
       "      <td>6C</td>\n",
       "      <td>False</td>\n",
       "      <td>[{'Description': '16K', 'IsEnd': True, 'IsStar...</td>\n",
       "      <td>ST</td>\n",
       "      <td>False</td>\n",
       "    </tr>\n",
       "  </tbody>\n",
       "</table>\n",
       "</div>"
      ],
      "text/plain": [
       "    Grade  IsBenchmark                                              Moves  \\\n",
       "809    6C        False  [{'Description': '16K', 'IsEnd': True, 'IsStar...   \n",
       "\n",
       "    Name  Sended  \n",
       "809   ST   False  "
      ]
     },
     "execution_count": 14,
     "metadata": {},
     "output_type": "execute_result"
    }
   ],
   "source": [
    "df[df['Grade'].isin(['6C', '6B+', '6B'])]\n"
   ]
  },
  {
   "cell_type": "code",
   "execution_count": 15,
   "id": "03628129",
   "metadata": {},
   "outputs": [
    {
     "data": {
      "text/plain": [
       "[{'Description': '16F', 'IsEnd': True, 'IsStart': False},\n",
       " {'Description': '6H', 'IsEnd': False, 'IsStart': False},\n",
       " {'Description': '2G', 'IsEnd': False, 'IsStart': False},\n",
       " {'Description': '10B', 'IsEnd': False, 'IsStart': False},\n",
       " {'Description': '7G', 'IsEnd': False, 'IsStart': False},\n",
       " {'Description': '1J', 'IsEnd': False, 'IsStart': True}]"
      ]
     },
     "execution_count": 15,
     "metadata": {},
     "output_type": "execute_result"
    }
   ],
   "source": [
    "df['Moves'][0]\n"
   ]
  },
  {
   "cell_type": "code",
   "execution_count": 16,
   "id": "bf07c921",
   "metadata": {},
   "outputs": [
    {
     "data": {
      "text/html": [
       "<div>\n",
       "<style scoped>\n",
       "    .dataframe tbody tr th:only-of-type {\n",
       "        vertical-align: middle;\n",
       "    }\n",
       "\n",
       "    .dataframe tbody tr th {\n",
       "        vertical-align: top;\n",
       "    }\n",
       "\n",
       "    .dataframe thead th {\n",
       "        text-align: right;\n",
       "    }\n",
       "</style>\n",
       "<table border=\"1\" class=\"dataframe\">\n",
       "  <thead>\n",
       "    <tr style=\"text-align: right;\">\n",
       "      <th></th>\n",
       "      <th>Name</th>\n",
       "      <th>Grade</th>\n",
       "      <th>HoldList</th>\n",
       "    </tr>\n",
       "  </thead>\n",
       "  <tbody>\n",
       "    <tr>\n",
       "      <th>0</th>\n",
       "      <td>TIRITI</td>\n",
       "      <td>6C</td>\n",
       "      <td>[16F, 6H, 2G, 10B, 7G, 1J]</td>\n",
       "    </tr>\n",
       "    <tr>\n",
       "      <th>1</th>\n",
       "      <td>TIRITI</td>\n",
       "      <td>6C</td>\n",
       "      <td>[16F, 6H, 2G, 10B, 7G, 1J]</td>\n",
       "    </tr>\n",
       "    <tr>\n",
       "      <th>2</th>\n",
       "      <td>HOLD MY BLACKBERRY</td>\n",
       "      <td>7C</td>\n",
       "      <td>[16F, 7K, 2G, 9I, 1K]</td>\n",
       "    </tr>\n",
       "    <tr>\n",
       "      <th>3</th>\n",
       "      <td>SPRING CONDITIONS 3</td>\n",
       "      <td>6C</td>\n",
       "      <td>[16K, 6H, 2D, 14J, 9D, 11J, 2K, 14D, 1J]</td>\n",
       "    </tr>\n",
       "    <tr>\n",
       "      <th>4</th>\n",
       "      <td>WINGSPAN</td>\n",
       "      <td>7A+</td>\n",
       "      <td>[16F, 6H, 2D, 10B, 1D]</td>\n",
       "    </tr>\n",
       "  </tbody>\n",
       "</table>\n",
       "</div>"
      ],
      "text/plain": [
       "                  Name Grade                                  HoldList\n",
       "0               TIRITI    6C                [16F, 6H, 2G, 10B, 7G, 1J]\n",
       "1               TIRITI    6C                [16F, 6H, 2G, 10B, 7G, 1J]\n",
       "2   HOLD MY BLACKBERRY    7C                     [16F, 7K, 2G, 9I, 1K]\n",
       "3  SPRING CONDITIONS 3    6C  [16K, 6H, 2D, 14J, 9D, 11J, 2K, 14D, 1J]\n",
       "4             WINGSPAN   7A+                    [16F, 6H, 2D, 10B, 1D]"
      ]
     },
     "execution_count": 16,
     "metadata": {},
     "output_type": "execute_result"
    }
   ],
   "source": [
    "# Create a new column with just the hold names (like ['16F', '6H', ...])\n",
    "df['HoldList'] = df['Moves'].apply(lambda moves: [m['Description'] for m in moves])\n",
    "df[['Name', 'Grade', 'HoldList']].head()\n"
   ]
  },
  {
   "cell_type": "code",
   "execution_count": 17,
   "id": "095eb116",
   "metadata": {},
   "outputs": [
    {
     "data": {
      "text/plain": [
       "[('1K', 839),\n",
       " ('1J', 597),\n",
       " ('16F', 588),\n",
       " ('16K', 434),\n",
       " ('5K', 422),\n",
       " ('1G', 387),\n",
       " ('2G', 344),\n",
       " ('7G', 305),\n",
       " ('6H', 291),\n",
       " ('9D', 290)]"
      ]
     },
     "execution_count": 17,
     "metadata": {},
     "output_type": "execute_result"
    }
   ],
   "source": [
    "from collections import Counter\n",
    "\n",
    "# Flatten all hold lists into one big list\n",
    "all_holds = [hold for sublist in df['HoldList'] for hold in sublist]\n",
    "\n",
    "# Count how many times each hold is used\n",
    "hold_counts = Counter(all_holds)\n",
    "\n",
    "# Show the 10 most common holds\n",
    "hold_counts.most_common(10)\n"
   ]
  },
  {
   "cell_type": "code",
   "execution_count": null,
   "id": "b1532126",
   "metadata": {},
   "outputs": [
    {
     "data": {
      "text/html": [
       "<div>\n",
       "<style scoped>\n",
       "    .dataframe tbody tr th:only-of-type {\n",
       "        vertical-align: middle;\n",
       "    }\n",
       "\n",
       "    .dataframe tbody tr th {\n",
       "        vertical-align: top;\n",
       "    }\n",
       "\n",
       "    .dataframe thead th {\n",
       "        text-align: right;\n",
       "    }\n",
       "</style>\n",
       "<table border=\"1\" class=\"dataframe\">\n",
       "  <thead>\n",
       "    <tr style=\"text-align: right;\">\n",
       "      <th></th>\n",
       "      <th>10A</th>\n",
       "      <th>10B</th>\n",
       "      <th>10C</th>\n",
       "      <th>10D</th>\n",
       "      <th>10E</th>\n",
       "      <th>10F</th>\n",
       "      <th>10G</th>\n",
       "      <th>10H</th>\n",
       "      <th>10I</th>\n",
       "      <th>10J</th>\n",
       "      <th>...</th>\n",
       "      <th>9A</th>\n",
       "      <th>9D</th>\n",
       "      <th>9F</th>\n",
       "      <th>9G</th>\n",
       "      <th>9H</th>\n",
       "      <th>9I</th>\n",
       "      <th>9J</th>\n",
       "      <th>9K</th>\n",
       "      <th>Grade</th>\n",
       "      <th>Name</th>\n",
       "    </tr>\n",
       "  </thead>\n",
       "  <tbody>\n",
       "    <tr>\n",
       "      <th>0</th>\n",
       "      <td>0</td>\n",
       "      <td>1</td>\n",
       "      <td>0</td>\n",
       "      <td>0</td>\n",
       "      <td>0</td>\n",
       "      <td>0</td>\n",
       "      <td>0</td>\n",
       "      <td>0</td>\n",
       "      <td>0</td>\n",
       "      <td>0</td>\n",
       "      <td>...</td>\n",
       "      <td>0</td>\n",
       "      <td>0</td>\n",
       "      <td>0</td>\n",
       "      <td>0</td>\n",
       "      <td>0</td>\n",
       "      <td>0</td>\n",
       "      <td>0</td>\n",
       "      <td>0</td>\n",
       "      <td>6C</td>\n",
       "      <td>TIRITI</td>\n",
       "    </tr>\n",
       "    <tr>\n",
       "      <th>1</th>\n",
       "      <td>0</td>\n",
       "      <td>1</td>\n",
       "      <td>0</td>\n",
       "      <td>0</td>\n",
       "      <td>0</td>\n",
       "      <td>0</td>\n",
       "      <td>0</td>\n",
       "      <td>0</td>\n",
       "      <td>0</td>\n",
       "      <td>0</td>\n",
       "      <td>...</td>\n",
       "      <td>0</td>\n",
       "      <td>0</td>\n",
       "      <td>0</td>\n",
       "      <td>0</td>\n",
       "      <td>0</td>\n",
       "      <td>0</td>\n",
       "      <td>0</td>\n",
       "      <td>0</td>\n",
       "      <td>6C</td>\n",
       "      <td>TIRITI</td>\n",
       "    </tr>\n",
       "    <tr>\n",
       "      <th>2</th>\n",
       "      <td>0</td>\n",
       "      <td>0</td>\n",
       "      <td>0</td>\n",
       "      <td>0</td>\n",
       "      <td>0</td>\n",
       "      <td>0</td>\n",
       "      <td>0</td>\n",
       "      <td>0</td>\n",
       "      <td>0</td>\n",
       "      <td>0</td>\n",
       "      <td>...</td>\n",
       "      <td>0</td>\n",
       "      <td>0</td>\n",
       "      <td>0</td>\n",
       "      <td>0</td>\n",
       "      <td>0</td>\n",
       "      <td>1</td>\n",
       "      <td>0</td>\n",
       "      <td>0</td>\n",
       "      <td>7C</td>\n",
       "      <td>HOLD MY BLACKBERRY</td>\n",
       "    </tr>\n",
       "    <tr>\n",
       "      <th>3</th>\n",
       "      <td>0</td>\n",
       "      <td>0</td>\n",
       "      <td>0</td>\n",
       "      <td>0</td>\n",
       "      <td>0</td>\n",
       "      <td>0</td>\n",
       "      <td>0</td>\n",
       "      <td>0</td>\n",
       "      <td>0</td>\n",
       "      <td>0</td>\n",
       "      <td>...</td>\n",
       "      <td>0</td>\n",
       "      <td>1</td>\n",
       "      <td>0</td>\n",
       "      <td>0</td>\n",
       "      <td>0</td>\n",
       "      <td>0</td>\n",
       "      <td>0</td>\n",
       "      <td>0</td>\n",
       "      <td>6C</td>\n",
       "      <td>SPRING CONDITIONS 3</td>\n",
       "    </tr>\n",
       "    <tr>\n",
       "      <th>4</th>\n",
       "      <td>0</td>\n",
       "      <td>1</td>\n",
       "      <td>0</td>\n",
       "      <td>0</td>\n",
       "      <td>0</td>\n",
       "      <td>0</td>\n",
       "      <td>0</td>\n",
       "      <td>0</td>\n",
       "      <td>0</td>\n",
       "      <td>0</td>\n",
       "      <td>...</td>\n",
       "      <td>0</td>\n",
       "      <td>0</td>\n",
       "      <td>0</td>\n",
       "      <td>0</td>\n",
       "      <td>0</td>\n",
       "      <td>0</td>\n",
       "      <td>0</td>\n",
       "      <td>0</td>\n",
       "      <td>7A+</td>\n",
       "      <td>WINGSPAN</td>\n",
       "    </tr>\n",
       "  </tbody>\n",
       "</table>\n",
       "<p>5 rows × 131 columns</p>\n",
       "</div>"
      ],
      "text/plain": [
       "   10A  10B  10C  10D  10E  10F  10G  10H  10I  10J  ...  9A  9D  9F  9G  9H  \\\n",
       "0    0    1    0    0    0    0    0    0    0    0  ...   0   0   0   0   0   \n",
       "1    0    1    0    0    0    0    0    0    0    0  ...   0   0   0   0   0   \n",
       "2    0    0    0    0    0    0    0    0    0    0  ...   0   0   0   0   0   \n",
       "3    0    0    0    0    0    0    0    0    0    0  ...   0   1   0   0   0   \n",
       "4    0    1    0    0    0    0    0    0    0    0  ...   0   0   0   0   0   \n",
       "\n",
       "   9I  9J  9K  Grade                 Name  \n",
       "0   0   0   0     6C               TIRITI  \n",
       "1   0   0   0     6C               TIRITI  \n",
       "2   1   0   0     7C   HOLD MY BLACKBERRY  \n",
       "3   0   0   0     6C  SPRING CONDITIONS 3  \n",
       "4   0   0   0    7A+             WINGSPAN  \n",
       "\n",
       "[5 rows x 131 columns]"
      ]
     },
     "execution_count": 20,
     "metadata": {},
     "output_type": "execute_result"
    }
   ],
   "source": [
    "from sklearn.preprocessing import MultiLabelBinarizer\n",
    "\n",
    "mlb = MultiLabelBinarizer()\n",
    "hold_matrix = mlb.fit_transform(df['HoldList'])\n",
    "\n",
    "# Create a DataFrame from the hold matrix\n",
    "hold_df = pd.DataFrame(hold_matrix, columns=mlb.classes_)\n",
    "\n",
    "hold_df['Grade'] = df['Grade']\n",
    "hold_df['Name'] = df['Name']\n",
    "hold_df.head()\n"
   ]
  },
  {
   "cell_type": "code",
   "execution_count": 21,
   "id": "bfb78f84",
   "metadata": {},
   "outputs": [
    {
     "data": {
      "text/plain": [
       "(1248, 131)"
      ]
     },
     "execution_count": 21,
     "metadata": {},
     "output_type": "execute_result"
    }
   ],
   "source": [
    "hold_df.shape\n"
   ]
  },
  {
   "cell_type": "code",
   "execution_count": null,
   "id": "2c18c173",
   "metadata": {},
   "outputs": [
    {
     "data": {
      "text/plain": [
       "np.int64(0)"
      ]
     },
     "execution_count": 24,
     "metadata": {},
     "output_type": "execute_result"
    }
   ],
   "source": [
    "df.shape \n",
    "hold_df.shape  \n",
    "df['HoldList'].isnull().sum() "
   ]
  },
  {
   "cell_type": "code",
   "execution_count": null,
   "id": "cdfef751",
   "metadata": {},
   "outputs": [],
   "source": [
    "# Keep only rows where HoldList is a valid non-empty list\n",
    "df = df[df['HoldList'].apply(lambda x: isinstance(x, list) and len(x) > 0)]\n"
   ]
  },
  {
   "cell_type": "code",
   "execution_count": 23,
   "id": "4d47b886",
   "metadata": {},
   "outputs": [
    {
     "data": {
      "text/html": [
       "<div>\n",
       "<style scoped>\n",
       "    .dataframe tbody tr th:only-of-type {\n",
       "        vertical-align: middle;\n",
       "    }\n",
       "\n",
       "    .dataframe tbody tr th {\n",
       "        vertical-align: top;\n",
       "    }\n",
       "\n",
       "    .dataframe thead th {\n",
       "        text-align: right;\n",
       "    }\n",
       "</style>\n",
       "<table border=\"1\" class=\"dataframe\">\n",
       "  <thead>\n",
       "    <tr style=\"text-align: right;\">\n",
       "      <th></th>\n",
       "      <th>Grade</th>\n",
       "      <th>IsBenchmark</th>\n",
       "      <th>Moves</th>\n",
       "      <th>Name</th>\n",
       "      <th>Sended</th>\n",
       "      <th>HoldList</th>\n",
       "    </tr>\n",
       "  </thead>\n",
       "  <tbody>\n",
       "  </tbody>\n",
       "</table>\n",
       "</div>"
      ],
      "text/plain": [
       "Empty DataFrame\n",
       "Columns: [Grade, IsBenchmark, Moves, Name, Sended, HoldList]\n",
       "Index: []"
      ]
     },
     "execution_count": 23,
     "metadata": {},
     "output_type": "execute_result"
    }
   ],
   "source": [
    "df[df['HoldList'].apply(lambda x: not isinstance(x, list))]\n"
   ]
  },
  {
   "cell_type": "code",
   "execution_count": null,
   "id": "f824dce8",
   "metadata": {},
   "outputs": [
    {
     "data": {
      "text/plain": [
       "(1248, 131)"
      ]
     },
     "execution_count": 26,
     "metadata": {},
     "output_type": "execute_result"
    }
   ],
   "source": [
    "hold_matrix = mlb.fit_transform(df['HoldList'])\n",
    "hold_df = pd.DataFrame(hold_matrix, columns=mlb.classes_)\n",
    "\n",
    "hold_df['Grade'] = df['Grade'].values\n",
    "hold_df['Name'] = df['Name'].values\n",
    "\n",
    "hold_df.shape\n"
   ]
  },
  {
   "cell_type": "code",
   "execution_count": null,
   "id": "f7839000",
   "metadata": {},
   "outputs": [
    {
     "data": {
      "text/plain": [
       "1248"
      ]
     },
     "execution_count": 27,
     "metadata": {},
     "output_type": "execute_result"
    }
   ],
   "source": [
    "len(data) \n"
   ]
  },
  {
   "cell_type": "code",
   "execution_count": 28,
   "id": "5443d821",
   "metadata": {},
   "outputs": [
    {
     "data": {
      "text/html": [
       "<div>\n",
       "<style scoped>\n",
       "    .dataframe tbody tr th:only-of-type {\n",
       "        vertical-align: middle;\n",
       "    }\n",
       "\n",
       "    .dataframe tbody tr th {\n",
       "        vertical-align: top;\n",
       "    }\n",
       "\n",
       "    .dataframe thead th {\n",
       "        text-align: right;\n",
       "    }\n",
       "</style>\n",
       "<table border=\"1\" class=\"dataframe\">\n",
       "  <thead>\n",
       "    <tr style=\"text-align: right;\">\n",
       "      <th></th>\n",
       "      <th>Name</th>\n",
       "      <th>Grade</th>\n",
       "      <th>HoldList</th>\n",
       "    </tr>\n",
       "  </thead>\n",
       "  <tbody>\n",
       "    <tr>\n",
       "      <th>0</th>\n",
       "      <td>TIRITI</td>\n",
       "      <td>6C</td>\n",
       "      <td>[16F, 6H, 2G, 10B, 7G, 1J]</td>\n",
       "    </tr>\n",
       "    <tr>\n",
       "      <th>1</th>\n",
       "      <td>TIRITI</td>\n",
       "      <td>6C</td>\n",
       "      <td>[16F, 6H, 2G, 10B, 7G, 1J]</td>\n",
       "    </tr>\n",
       "    <tr>\n",
       "      <th>2</th>\n",
       "      <td>HOLD MY BLACKBERRY</td>\n",
       "      <td>7C</td>\n",
       "      <td>[16F, 7K, 2G, 9I, 1K]</td>\n",
       "    </tr>\n",
       "    <tr>\n",
       "      <th>3</th>\n",
       "      <td>SPRING CONDITIONS 3</td>\n",
       "      <td>6C</td>\n",
       "      <td>[16K, 6H, 2D, 14J, 9D, 11J, 2K, 14D, 1J]</td>\n",
       "    </tr>\n",
       "    <tr>\n",
       "      <th>4</th>\n",
       "      <td>WINGSPAN</td>\n",
       "      <td>7A+</td>\n",
       "      <td>[16F, 6H, 2D, 10B, 1D]</td>\n",
       "    </tr>\n",
       "  </tbody>\n",
       "</table>\n",
       "</div>"
      ],
      "text/plain": [
       "                  Name Grade                                  HoldList\n",
       "0               TIRITI    6C                [16F, 6H, 2G, 10B, 7G, 1J]\n",
       "1               TIRITI    6C                [16F, 6H, 2G, 10B, 7G, 1J]\n",
       "2   HOLD MY BLACKBERRY    7C                     [16F, 7K, 2G, 9I, 1K]\n",
       "3  SPRING CONDITIONS 3    6C  [16K, 6H, 2D, 14J, 9D, 11J, 2K, 14D, 1J]\n",
       "4             WINGSPAN   7A+                    [16F, 6H, 2D, 10B, 1D]"
      ]
     },
     "execution_count": 28,
     "metadata": {},
     "output_type": "execute_result"
    }
   ],
   "source": [
    "df[['Name', 'Grade', 'HoldList']].head()\n"
   ]
  },
  {
   "cell_type": "code",
   "execution_count": null,
   "id": "676d5338",
   "metadata": {},
   "outputs": [
    {
     "data": {
      "text/plain": [
       "(1248, 131)"
      ]
     },
     "execution_count": 29,
     "metadata": {},
     "output_type": "execute_result"
    }
   ],
   "source": [
    "hold_df.shape \n"
   ]
  },
  {
   "cell_type": "code",
   "execution_count": 30,
   "id": "201df11a",
   "metadata": {},
   "outputs": [
    {
     "data": {
      "text/plain": [
       "10A           0\n",
       "10B           1\n",
       "10C           0\n",
       "10D           0\n",
       "10E           0\n",
       "          ...  \n",
       "9I            0\n",
       "9J            0\n",
       "9K            0\n",
       "Grade        6C\n",
       "Name     TIRITI\n",
       "Name: 0, Length: 131, dtype: object"
      ]
     },
     "execution_count": 30,
     "metadata": {},
     "output_type": "execute_result"
    }
   ],
   "source": [
    "hold_df.iloc[0]  # One route's full vector\n"
   ]
  },
  {
   "cell_type": "code",
   "execution_count": 31,
   "id": "9b364eb9",
   "metadata": {},
   "outputs": [],
   "source": [
    "# Separate holds by role: start, end, middle\n",
    "def extract_hold_roles(moves):\n",
    "    start = [m['Description'] for m in moves if m['IsStart']]\n",
    "    end = [m['Description'] for m in moves if m['IsEnd']]\n",
    "    middle = [m['Description'] for m in moves if not m['IsStart'] and not m['IsEnd']]\n",
    "    return start, end, middle\n",
    "\n",
    "df[['StartHolds', 'EndHolds', 'MiddleHolds']] = df['Moves'].apply(\n",
    "    lambda moves: pd.Series(extract_hold_roles(moves))\n",
    ")\n"
   ]
  },
  {
   "cell_type": "code",
   "execution_count": 32,
   "id": "ec2e5a40",
   "metadata": {},
   "outputs": [
    {
     "data": {
      "text/html": [
       "<div>\n",
       "<style scoped>\n",
       "    .dataframe tbody tr th:only-of-type {\n",
       "        vertical-align: middle;\n",
       "    }\n",
       "\n",
       "    .dataframe tbody tr th {\n",
       "        vertical-align: top;\n",
       "    }\n",
       "\n",
       "    .dataframe thead th {\n",
       "        text-align: right;\n",
       "    }\n",
       "</style>\n",
       "<table border=\"1\" class=\"dataframe\">\n",
       "  <thead>\n",
       "    <tr style=\"text-align: right;\">\n",
       "      <th></th>\n",
       "      <th>Name</th>\n",
       "      <th>Grade</th>\n",
       "      <th>StartHolds</th>\n",
       "      <th>EndHolds</th>\n",
       "      <th>MiddleHolds</th>\n",
       "    </tr>\n",
       "  </thead>\n",
       "  <tbody>\n",
       "    <tr>\n",
       "      <th>0</th>\n",
       "      <td>TIRITI</td>\n",
       "      <td>6C</td>\n",
       "      <td>[1J]</td>\n",
       "      <td>[16F]</td>\n",
       "      <td>[6H, 2G, 10B, 7G]</td>\n",
       "    </tr>\n",
       "    <tr>\n",
       "      <th>1</th>\n",
       "      <td>TIRITI</td>\n",
       "      <td>6C</td>\n",
       "      <td>[1J]</td>\n",
       "      <td>[16F]</td>\n",
       "      <td>[6H, 2G, 10B, 7G]</td>\n",
       "    </tr>\n",
       "    <tr>\n",
       "      <th>2</th>\n",
       "      <td>HOLD MY BLACKBERRY</td>\n",
       "      <td>7C</td>\n",
       "      <td>[1K]</td>\n",
       "      <td>[16F]</td>\n",
       "      <td>[7K, 2G, 9I]</td>\n",
       "    </tr>\n",
       "    <tr>\n",
       "      <th>3</th>\n",
       "      <td>SPRING CONDITIONS 3</td>\n",
       "      <td>6C</td>\n",
       "      <td>[1J]</td>\n",
       "      <td>[16K]</td>\n",
       "      <td>[6H, 2D, 14J, 9D, 11J, 2K, 14D]</td>\n",
       "    </tr>\n",
       "    <tr>\n",
       "      <th>4</th>\n",
       "      <td>WINGSPAN</td>\n",
       "      <td>7A+</td>\n",
       "      <td>[1D]</td>\n",
       "      <td>[16F]</td>\n",
       "      <td>[6H, 2D, 10B]</td>\n",
       "    </tr>\n",
       "  </tbody>\n",
       "</table>\n",
       "</div>"
      ],
      "text/plain": [
       "                  Name Grade StartHolds EndHolds  \\\n",
       "0               TIRITI    6C       [1J]    [16F]   \n",
       "1               TIRITI    6C       [1J]    [16F]   \n",
       "2   HOLD MY BLACKBERRY    7C       [1K]    [16F]   \n",
       "3  SPRING CONDITIONS 3    6C       [1J]    [16K]   \n",
       "4             WINGSPAN   7A+       [1D]    [16F]   \n",
       "\n",
       "                       MiddleHolds  \n",
       "0                [6H, 2G, 10B, 7G]  \n",
       "1                [6H, 2G, 10B, 7G]  \n",
       "2                     [7K, 2G, 9I]  \n",
       "3  [6H, 2D, 14J, 9D, 11J, 2K, 14D]  \n",
       "4                    [6H, 2D, 10B]  "
      ]
     },
     "execution_count": 32,
     "metadata": {},
     "output_type": "execute_result"
    }
   ],
   "source": [
    "df[['Name', 'Grade', 'StartHolds', 'EndHolds', 'MiddleHolds']].head()\n"
   ]
  },
  {
   "cell_type": "code",
   "execution_count": 33,
   "id": "ed9558d9",
   "metadata": {},
   "outputs": [],
   "source": [
    "df['HoldList'] = df['StartHolds'] + df['MiddleHolds'] + df['EndHolds']\n"
   ]
  },
  {
   "cell_type": "code",
   "execution_count": 34,
   "id": "59bbadb0",
   "metadata": {},
   "outputs": [],
   "source": [
    "hold_matrix = mlb.fit_transform(df['HoldList'])\n",
    "hold_df = pd.DataFrame(hold_matrix, columns=mlb.classes_)\n",
    "hold_df['Grade'] = df['Grade'].values\n",
    "hold_df['Name'] = df['Name'].values\n"
   ]
  },
  {
   "cell_type": "code",
   "execution_count": 35,
   "id": "dd15f0b1",
   "metadata": {},
   "outputs": [],
   "source": [
    "from sklearn.metrics.pairwise import cosine_similarity\n",
    "import numpy as np\n"
   ]
  },
  {
   "cell_type": "code",
   "execution_count": 36,
   "id": "342cd862",
   "metadata": {},
   "outputs": [],
   "source": [
    "# Example: user wants a route with these holds\n",
    "user_holds = ['6H', '2G', '1J']\n"
   ]
  },
  {
   "cell_type": "code",
   "execution_count": 37,
   "id": "c06125e2",
   "metadata": {},
   "outputs": [],
   "source": [
    "# Create binary vector matching mlb.classes_ layout\n",
    "query_vector = np.zeros(len(mlb.classes_))\n",
    "\n",
    "for i, hold in enumerate(mlb.classes_):\n",
    "    if hold in user_holds:\n",
    "        query_vector[i] = 1\n"
   ]
  },
  {
   "cell_type": "code",
   "execution_count": null,
   "id": "af833d0a",
   "metadata": {},
   "outputs": [],
   "source": [
    "feature_matrix = hold_df.drop(columns=['Grade', 'Name'])\n",
    "\n",
    "# Calculate cosine similarity\n",
    "similarities = cosine_similarity([query_vector], feature_matrix)[0]\n"
   ]
  },
  {
   "cell_type": "code",
   "execution_count": 39,
   "id": "202f468a",
   "metadata": {},
   "outputs": [
    {
     "data": {
      "text/html": [
       "<div>\n",
       "<style scoped>\n",
       "    .dataframe tbody tr th:only-of-type {\n",
       "        vertical-align: middle;\n",
       "    }\n",
       "\n",
       "    .dataframe tbody tr th {\n",
       "        vertical-align: top;\n",
       "    }\n",
       "\n",
       "    .dataframe thead th {\n",
       "        text-align: right;\n",
       "    }\n",
       "</style>\n",
       "<table border=\"1\" class=\"dataframe\">\n",
       "  <thead>\n",
       "    <tr style=\"text-align: right;\">\n",
       "      <th></th>\n",
       "      <th>Name</th>\n",
       "      <th>Grade</th>\n",
       "    </tr>\n",
       "  </thead>\n",
       "  <tbody>\n",
       "    <tr>\n",
       "      <th>133</th>\n",
       "      <td>HER COMES THE QUEEN</td>\n",
       "      <td>6C+</td>\n",
       "    </tr>\n",
       "    <tr>\n",
       "      <th>925</th>\n",
       "      <td>URBAN WALL</td>\n",
       "      <td>6C</td>\n",
       "    </tr>\n",
       "    <tr>\n",
       "      <th>302</th>\n",
       "      <td>BLACK MONO</td>\n",
       "      <td>7A</td>\n",
       "    </tr>\n",
       "    <tr>\n",
       "      <th>1</th>\n",
       "      <td>TIRITI</td>\n",
       "      <td>6C</td>\n",
       "    </tr>\n",
       "    <tr>\n",
       "      <th>38</th>\n",
       "      <td>ON BLACK</td>\n",
       "      <td>6B+</td>\n",
       "    </tr>\n",
       "  </tbody>\n",
       "</table>\n",
       "</div>"
      ],
      "text/plain": [
       "                    Name Grade\n",
       "133  HER COMES THE QUEEN   6C+\n",
       "925           URBAN WALL    6C\n",
       "302           BLACK MONO    7A\n",
       "1                 TIRITI    6C\n",
       "38              ON BLACK   6B+"
      ]
     },
     "execution_count": 39,
     "metadata": {},
     "output_type": "execute_result"
    }
   ],
   "source": [
    "# Get top 5 most similar route indices\n",
    "top_indices = similarities.argsort()[-5:][::-1]\n",
    "\n",
    "# Show results\n",
    "hold_df.iloc[top_indices][['Name', 'Grade']]\n"
   ]
  },
  {
   "cell_type": "code",
   "execution_count": null,
   "id": "417cb547",
   "metadata": {},
   "outputs": [
    {
     "data": {
      "text/html": [
       "<div>\n",
       "<style scoped>\n",
       "    .dataframe tbody tr th:only-of-type {\n",
       "        vertical-align: middle;\n",
       "    }\n",
       "\n",
       "    .dataframe tbody tr th {\n",
       "        vertical-align: top;\n",
       "    }\n",
       "\n",
       "    .dataframe thead th {\n",
       "        text-align: right;\n",
       "    }\n",
       "</style>\n",
       "<table border=\"1\" class=\"dataframe\">\n",
       "  <thead>\n",
       "    <tr style=\"text-align: right;\">\n",
       "      <th></th>\n",
       "      <th>Name</th>\n",
       "      <th>Grade</th>\n",
       "    </tr>\n",
       "  </thead>\n",
       "  <tbody>\n",
       "    <tr>\n",
       "      <th>0</th>\n",
       "      <td>ST</td>\n",
       "      <td>6C</td>\n",
       "    </tr>\n",
       "  </tbody>\n",
       "</table>\n",
       "</div>"
      ],
      "text/plain": [
       "  Name Grade\n",
       "0   ST    6C"
      ]
     },
     "execution_count": 40,
     "metadata": {},
     "output_type": "execute_result"
    }
   ],
   "source": [
    "# User input \n",
    "user_holds = ['6H', '2G', '1J']\n",
    "allowed_grades = ['6C', '6C+']  # only adjacent grades\n",
    "\n",
    "# Filter dataset\n",
    "filtered_df = hold_df[hold_df['Grade'].isin(allowed_grades)].reset_index(drop=True)\n",
    "\n",
    "# Build binary query vector \n",
    "query_vector = np.zeros(len(mlb.classes_))\n",
    "for i, hold in enumerate(mlb.classes_):\n",
    "    if hold in user_holds:\n",
    "        query_vector[i] = 1\n",
    "\n",
    "#Calculate similarity\n",
    "feature_matrix = filtered_df.drop(columns=['Grade', 'Name'])\n",
    "similarities = cosine_similarity([query_vector], feature_matrix)[0]\n",
    "\n",
    "# Return top 5 matches\n",
    "top_indices = similarities.argsort()[-5:][::-1]\n",
    "filtered_df.iloc[top_indices][['Name', 'Grade']]\n"
   ]
  },
  {
   "cell_type": "code",
   "execution_count": 41,
   "id": "f7ace1d2",
   "metadata": {},
   "outputs": [
    {
     "name": "stdout",
     "output_type": "stream",
     "text": [
      "(1, 131)\n",
      "[0.21821789]\n"
     ]
    }
   ],
   "source": [
    "print(filtered_df.shape)\n",
    "print(similarities[top_indices])\n"
   ]
  },
  {
   "cell_type": "code",
   "execution_count": null,
   "id": "fdf79c1b",
   "metadata": {},
   "outputs": [],
   "source": []
  }
 ],
 "metadata": {
  "kernelspec": {
   "display_name": "Python 3",
   "language": "python",
   "name": "python3"
  },
  "language_info": {
   "codemirror_mode": {
    "name": "ipython",
    "version": 3
   },
   "file_extension": ".py",
   "mimetype": "text/x-python",
   "name": "python",
   "nbconvert_exporter": "python",
   "pygments_lexer": "ipython3",
   "version": "3.12.4"
  }
 },
 "nbformat": 4,
 "nbformat_minor": 5
}
